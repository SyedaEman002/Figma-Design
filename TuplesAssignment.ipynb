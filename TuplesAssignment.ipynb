{
  "nbformat": 4,
  "nbformat_minor": 0,
  "metadata": {
    "colab": {
      "provenance": [],
      "authorship_tag": "ABX9TyNLwkeIWnReplq8NBOozQcT",
      "include_colab_link": true
    },
    "kernelspec": {
      "name": "python3",
      "display_name": "Python 3"
    },
    "language_info": {
      "name": "python"
    }
  },
  "cells": [
    {
      "cell_type": "markdown",
      "metadata": {
        "id": "view-in-github",
        "colab_type": "text"
      },
      "source": [
        "<a href=\"https://colab.research.google.com/github/SyedaEman002/Figma-Design/blob/main/TuplesAssignment.ipynb\" target=\"_parent\"><img src=\"https://colab.research.google.com/assets/colab-badge.svg\" alt=\"Open In Colab\"/></a>"
      ]
    },
    {
      "cell_type": "code",
      "execution_count": null,
      "metadata": {
        "colab": {
          "base_uri": "https://localhost:8080/"
        },
        "id": "inofyd-r_3Jg",
        "outputId": "cd727c53-e61f-474a-9e8a-ce4574805c32"
      },
      "outputs": [
        {
          "output_type": "stream",
          "name": "stdout",
          "text": [
            "Updated list: [1, 2, 3, 4, 5, 6]\n",
            "Extended list: [1, 2, 3, 4, 5, 6]\n",
            "Updated languages list: ['Java', 'C++', 'Python', 'JavaScript', 'HTML']\n",
            "List after removing first occurrence of 10: [20, 30, 10, 40]\n",
            "List after pop: [100, 200, 300]\n"
          ]
        }
      ],
      "source": [
        "numbers = [1, 2, 3, 4, 5]\n",
        "numbers.append(6)\n",
        "print(\"Updated list:\", numbers)\n",
        "list1 = [1, 2, 3]\n",
        "list2 = [4, 5, 6]\n",
        "list1.extend(list2)\n",
        "print(\"Extended list:\", list1)\n",
        "languages = [\"Java\", \"C++\", \"JavaScript\", \"HTML\"]\n",
        "languages.insert(2, \"Python\")\n",
        "print(\"Updated languages list:\", languages)\n",
        "nums = [10, 20, 30, 10, 40]\n",
        "nums.remove(10)\n",
        "print(\"List after removing first occurrence of 10:\", nums)\n",
        "\n",
        "values = [100, 200, 300, 400]\n",
        "values.pop()\n",
        "print(\"List after pop:\", values)\n",
        "\n"
      ]
    },
    {
      "cell_type": "code",
      "source": [
        "# 6. Count occurrences of the number 5\n",
        "numbers = [5, 10, 5, 20, 5, 30]\n",
        "count_5 = numbers.count(5)\n",
        "print(\"Count of 5:\", count_5)\n",
        "\n",
        "# 7. Sort the list in ascending and descending order\n",
        "num_list = [9, 1, 8, 3, 5]\n",
        "ascending = sorted(num_list)\n",
        "descending = sorted(num_list, reverse=True)\n",
        "print(\"Ascending order:\", ascending)\n",
        "print(\"Descending order:\", descending)\n",
        "\n",
        "# 8. Reverse the list using reverse()\n",
        "fruits = [\"apple\", \"banana\", \"cherry\"]\n",
        "fruits.reverse()\n",
        "print(\"Reversed list:\", fruits)\n",
        "\n",
        "# 9. Create a copy of a list and modify the copied list\n",
        "original_list = [1, 2, 3, 4, 5]\n",
        "copied_list = original_list.copy()\n",
        "copied_list.append(6)\n",
        "print(\"Original list:\", original_list)\n",
        "print(\"Modified copied list:\", copied_list)\n",
        "\n",
        "# 10. Clear all elements from a list using clear()\n",
        "words = [\"hello\", \"world\", \"python\"]\n",
        "words.clear()\n",
        "print(\"Cleared list:\", words)\n"
      ],
      "metadata": {
        "colab": {
          "base_uri": "https://localhost:8080/"
        },
        "id": "Oa-EWLDRArQ5",
        "outputId": "0f0a34ea-6ab5-463a-e20b-3c04b3099292"
      },
      "execution_count": null,
      "outputs": [
        {
          "output_type": "stream",
          "name": "stdout",
          "text": [
            "Count of 5: 3\n",
            "Ascending order: [1, 3, 5, 8, 9]\n",
            "Descending order: [9, 8, 5, 3, 1]\n",
            "Reversed list: ['cherry', 'banana', 'apple']\n",
            "Original list: [1, 2, 3, 4, 5]\n",
            "Modified copied list: [1, 2, 3, 4, 5, 6]\n",
            "Cleared list: []\n"
          ]
        }
      ]
    },
    {
      "cell_type": "code",
      "source": [
        "# 11. Create a tuple with 5 different fruits and print the third fruit\n",
        "fruits = (\"apple\", \"banana\", \"cherry\", \"orange\", \"grape\")\n",
        "print(\"Third fruit:\", fruits[2])\n",
        "\n",
        "# 12. Convert tuple to list, remove 30, convert back to tuple\n",
        "numbers_tuple = (10, 20, 30, 40, 50)\n",
        "numbers_list = list(numbers_tuple)\n",
        "numbers_list.remove(30)\n",
        "modified_tuple = tuple(numbers_list)\n",
        "print(\"Modified tuple:\", modified_tuple)\n",
        "\n",
        "# 13. Try to append an element to the tuple\n",
        "letters_tuple = (\"A\", \"B\", \"C\")\n",
        "# letters_tuple.append(\"D\")\n",
        "\n",
        "# Indirect way to modify a tuple (convert to list, modify, and convert back)\n",
        "letters_list = list(letters_tuple)\n",
        "letters_list.append(\"D\")\n",
        "modified_tuple = tuple(letters_list)\n",
        "print(\"Modified tuple:\", modified_tuple)\n",
        "\n",
        "# 14. Unpack the tuple into three variables\n",
        "numbers = (100, 200, 300)\n",
        "a, b, c = numbers\n",
        "print(\"Unpacked values:\", a, b, c)\n",
        "\n",
        "# 15. Count occurrences of 7 in the tuple\n",
        "num_tuple = (7, 1, 7, 3, 7, 5)\n",
        "count_7 = num_tuple.count(7)\n",
        "print(\"Occurrences of 7:\", count_7)\n"
      ],
      "metadata": {
        "colab": {
          "base_uri": "https://localhost:8080/"
        },
        "id": "9O7itFfzBNMA",
        "outputId": "1832815b-5315-4557-dde8-070ab9c577ab"
      },
      "execution_count": null,
      "outputs": [
        {
          "output_type": "stream",
          "name": "stdout",
          "text": [
            "Third fruit: cherry\n",
            "Modified tuple: (10, 20, 40, 50)\n",
            "Modified tuple: ('A', 'B', 'C', 'D')\n",
            "Unpacked values: 100 200 300\n",
            "Occurrences of 7: 3\n"
          ]
        }
      ]
    },
    {
      "cell_type": "code",
      "source": [
        "# 16. Function to remove even numbers from a list\n",
        "def remove_evens(lst):\n",
        "    return [num for num in lst if num % 2 != 0]\n",
        "\n",
        "numbers = [1, 2, 3, 4, 5, 6, 7, 8]\n",
        "print(\"List without evens:\", remove_evens(numbers))\n",
        "\n",
        "# 17. Function to sort a list in descending order without using sort()\n",
        "def custom_sort_desc(lst):\n",
        "    sorted_list = []\n",
        "    while lst:\n",
        "        max_value = max(lst)\n",
        "        sorted_list.append(max_value)\n",
        "        lst.remove(max_value)\n",
        "    return sorted_list\n",
        "\n",
        "numbers = [4, 1, 8, 3, 6]\n",
        "print(\"Sorted in descending order:\", custom_sort_desc(numbers))\n",
        "\n",
        "\n",
        "# 18. Remove duplicates from a list\n",
        "def remove_duplicates(lst):\n",
        "    return list(set(lst))\n",
        "\n",
        "numbers = [10, 20, 30, 10, 40, 20, 50]\n",
        "print(\"Unique elements:\", remove_duplicates(numbers))\n",
        "\n",
        "\n",
        "# 19. Convert tuple to list, remove duplicates, convert back to tuple\n",
        "names_tuple = (\"Alice\", \"Bob\", \"Charlie\", \"Alice\", \"David\")\n",
        "unique_names_list = list(set(names_tuple))  #\n",
        "unique_names_tuple = tuple(unique_names_list)\n",
        "print(\"Unique names tuple:\", unique_names_tuple)\n",
        "\n",
        "\n",
        "# 20. Separate different data types from a mixed list\n",
        "def separate_data_types(mixed_list):\n",
        "    integers = [x for x in mixed_list if isinstance(x, int)]\n",
        "    strings = [x for x in mixed_list if isinstance(x, str)]\n",
        "    floats = [x for x in mixed_list if isinstance(x, float)]\n",
        "    return integers, strings, floats\n",
        "\n",
        "mixed_data = [10, \"hello\", 3.14, 20, \"world\", 2.71, 42, \"Python\"]\n",
        "integers, strings, floats = separate_data_types(mixed_data)\n",
        "print(\"Integers:\", integers)\n",
        "print(\"Strings:\", strings)\n",
        "print(\"Floats:\", floats)\n"
      ],
      "metadata": {
        "colab": {
          "base_uri": "https://localhost:8080/"
        },
        "id": "EQlzagnoBsS0",
        "outputId": "6ca33755-cb4c-4507-9a63-81b7c4fba6be"
      },
      "execution_count": null,
      "outputs": [
        {
          "output_type": "stream",
          "name": "stdout",
          "text": [
            "List without evens: [1, 3, 5, 7]\n",
            "Sorted in descending order: [8, 6, 4, 3, 1]\n",
            "Unique elements: [40, 10, 50, 20, 30]\n",
            "Unique names tuple: ('Charlie', 'Alice', 'David', 'Bob')\n",
            "Integers: [10, 20, 42]\n",
            "Strings: ['hello', 'world', 'Python']\n",
            "Floats: [3.14, 2.71]\n"
          ]
        }
      ]
    }
  ]
}