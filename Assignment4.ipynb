{
  "nbformat": 4,
  "nbformat_minor": 0,
  "metadata": {
    "colab": {
      "provenance": [],
      "authorship_tag": "ABX9TyM6oIfQ98F3gaJrCEE/Dc/r",
      "include_colab_link": true
    },
    "kernelspec": {
      "name": "python3",
      "display_name": "Python 3"
    },
    "language_info": {
      "name": "python"
    }
  },
  "cells": [
    {
      "cell_type": "markdown",
      "metadata": {
        "id": "view-in-github",
        "colab_type": "text"
      },
      "source": [
        "<a href=\"https://colab.research.google.com/github/SyedaEman002/Figma-Design/blob/main/Assignment4.ipynb\" target=\"_parent\"><img src=\"https://colab.research.google.com/assets/colab-badge.svg\" alt=\"Open In Colab\"/></a>"
      ]
    },
    {
      "cell_type": "code",
      "execution_count": null,
      "metadata": {
        "colab": {
          "base_uri": "https://localhost:8080/"
        },
        "id": "4il-1lM7hXSc",
        "outputId": "9e878928-6305-4766-9e80-03f967a2c9df"
      },
      "outputs": [
        {
          "output_type": "stream",
          "name": "stdout",
          "text": [
            "Final fruits list: ['apple', 'mango', 'orange', 'grape']\n"
          ]
        }
      ],
      "source": [
        "                            #List Methods Practice\n",
        "\n",
        "#1 Create the initial list\n",
        "fruits = [\"apple\", \"banana\", \"orange\"]\n",
        "\n",
        "# Adding \"grape\" to the end of the list\n",
        "fruits.append(\"grape\")\n",
        "\n",
        "# Inserting \"mango\" at position 2 (indexing starts from 0)\n",
        "fruits.insert(2, \"mango\")\n",
        "\n",
        "# Remove \"banana\" from the list\n",
        "fruits.remove(\"banana\")\n",
        "\n",
        "# Print the final list\n",
        "print(\"Final fruits list:\", fruits)\n"
      ]
    },
    {
      "cell_type": "code",
      "source": [
        "#2 Creating the initial lists\n",
        "numbers = [10, 20, 30, 40, 50]\n",
        "more_numbers = [60, 70, 80]\n",
        "\n",
        "# Combining both lists\n",
        "all_numbers = numbers + more_numbers\n",
        "\n",
        "# Making a copy of all_numbers\n",
        "numbers_copy = all_numbers.copy()\n",
        "\n",
        "# Reverse the order of numbers_copy\n",
        "numbers_copy.reverse()\n",
        "\n",
        "# Print both lists\n",
        "print(\"All numbers:\", all_numbers)\n",
        "print(\"Reversed copy:\", numbers_copy)\n"
      ],
      "metadata": {
        "colab": {
          "base_uri": "https://localhost:8080/"
        },
        "id": "oyEuztGhj1ZU",
        "outputId": "0a57e292-c5d3-43f8-a1c4-1f5861ddb7c1"
      },
      "execution_count": null,
      "outputs": [
        {
          "output_type": "stream",
          "name": "stdout",
          "text": [
            "All numbers: [10, 20, 30, 40, 50, 60, 70, 80]\n",
            "Reversed copy: [80, 70, 60, 50, 40, 30, 20, 10]\n"
          ]
        }
      ]
    },
    {
      "cell_type": "code",
      "source": [
        "#3 Create the list\n",
        "scores = [85, 92, 78, 65, 92, 85, 74]\n",
        "\n",
        "# Sort the list in ascending order\n",
        "ascending_scores = sorted(scores)\n",
        "\n",
        "# Sort the list in descending order\n",
        "descending_scores = sorted(scores, reverse=True)\n",
        "\n",
        "# Count how many times 92 appears\n",
        "count_92 = scores.count(92)\n",
        "\n",
        "# Find the highest and lowest scores\n",
        "highest = max(scores)\n",
        "lowest = min(scores)\n",
        "\n",
        "# Print results\n",
        "print(\"Original scores:\", scores)\n",
        "print(\"Sorted (ascending):\", ascending_scores)\n",
        "print(\"Sorted (descending):\", descending_scores)\n",
        "print(\"92 appears\", count_92, \"times\")\n",
        "print(\"Highest score:\", highest)\n",
        "print(\"Lowest score:\", lowest)\n"
      ],
      "metadata": {
        "colab": {
          "base_uri": "https://localhost:8080/"
        },
        "id": "0SF3Vn_bj-yA",
        "outputId": "120354b3-6af2-4d6f-957f-bd94fbfb7a9c"
      },
      "execution_count": null,
      "outputs": [
        {
          "output_type": "stream",
          "name": "stdout",
          "text": [
            "Original scores: [85, 92, 78, 65, 92, 85, 74]\n",
            "Sorted (ascending): [65, 74, 78, 85, 85, 92, 92]\n",
            "Sorted (descending): [92, 92, 85, 85, 78, 74, 65]\n",
            "92 appears 2 times\n",
            "Highest score: 92\n",
            "Lowest score: 65\n"
          ]
        }
      ]
    },
    {
      "cell_type": "code",
      "source": [
        "#4 Create the list\n",
        "letters = [\"a\", \"b\", \"c\", \"d\", \"e\"]\n",
        "\n",
        "# Slice: First three letters\n",
        "first_three = letters[:3]\n",
        "\n",
        "# Slice: Last two letters\n",
        "last_two = letters[-2:]\n",
        "\n",
        "# Find index of \"c\"\n",
        "index_c = letters.index(\"c\")\n",
        "\n",
        "# Replace \"d\" with \"z\"\n",
        "letters[3] = \"z\"\n",
        "\n",
        "# Print results\n",
        "print(\"First three letters:\", first_three)\n",
        "print(\"Last two letters:\", last_two)\n",
        "print(\"Index of 'c':\", index_c)\n",
        "print(\"Modified letters list:\", letters)\n"
      ],
      "metadata": {
        "colab": {
          "base_uri": "https://localhost:8080/"
        },
        "id": "zYjZIPqHkRJM",
        "outputId": "de8a1ada-bb18-4fb4-817d-2d938a3aa3a0"
      },
      "execution_count": null,
      "outputs": [
        {
          "output_type": "stream",
          "name": "stdout",
          "text": [
            "First three letters: ['a', 'b', 'c']\n",
            "Last two letters: ['d', 'e']\n",
            "Index of 'c': 2\n",
            "Modified letters list: ['a', 'b', 'c', 'z', 'e']\n"
          ]
        }
      ]
    },
    {
      "cell_type": "code",
      "source": [
        "                            #Dictionary Methods Practice\n",
        "\n",
        "#1 Create the dictionary\n",
        "student = {\n",
        "    \"name\": \"John\",\n",
        "    \"age\": 20,\n",
        "    \"grade\": \"A\",\n",
        "    \"courses\": [\"Math\", \"Science\", \"History\"]\n",
        "}\n",
        "\n",
        "# Print the student's name\n",
        "print(\"Name:\", student[\"name\"])\n",
        "\n",
        "# Print the list of courses\n",
        "print(\"Courses:\", student[\"courses\"])\n",
        "\n",
        "# Add a new key-value pair\n",
        "student[\"email\"] = \"john@example.com\"\n",
        "\n",
        "# Print the entire dictionary\n",
        "print(\"Student dictionary:\", student)\n"
      ],
      "metadata": {
        "colab": {
          "base_uri": "https://localhost:8080/"
        },
        "id": "YIT8DrOzkcek",
        "outputId": "c2902c9a-cdfc-4c2d-b275-48490a5957a0"
      },
      "execution_count": null,
      "outputs": [
        {
          "output_type": "stream",
          "name": "stdout",
          "text": [
            "Name: John\n",
            "Courses: ['Math', 'Science', 'History']\n",
            "Student dictionary: {'name': 'John', 'age': 20, 'grade': 'A', 'courses': ['Math', 'Science', 'History'], 'email': 'john@example.com'}\n"
          ]
        }
      ]
    },
    {
      "cell_type": "code",
      "source": [
        "#2. Modify Dictionary Values\n",
        "# Existing dictionary\n",
        "student = {\n",
        "    \"name\": \"John\",\n",
        "    \"age\": 20,\n",
        "    \"grade\": \"A\",\n",
        "    \"courses\": [\"Math\", \"Science\", \"History\"],\n",
        "    \"email\": \"john@example.com\"\n",
        "}\n",
        "\n",
        "# Change the student's age to 21\n",
        "student[\"age\"] = 21\n",
        "\n",
        "# Add a new course to the list\n",
        "student[\"courses\"].append(\"Computer Science\")\n",
        "\n",
        "# Update the grade to \"A+\"\n",
        "student[\"grade\"] = \"A+\"\n",
        "\n",
        "# Print the modified dictionary\n",
        "print(\"Modified student dictionary:\", student)\n"
      ],
      "metadata": {
        "colab": {
          "base_uri": "https://localhost:8080/"
        },
        "id": "r0YG2V4fkyda",
        "outputId": "e6133f60-3c39-47cb-f0d6-0d89deeee2d8"
      },
      "execution_count": null,
      "outputs": [
        {
          "output_type": "stream",
          "name": "stdout",
          "text": [
            "Modified student dictionary: {'name': 'John', 'age': 21, 'grade': 'A+', 'courses': ['Math', 'Science', 'History', 'Computer Science'], 'email': 'john@example.com'}\n"
          ]
        }
      ]
    },
    {
      "cell_type": "code",
      "source": [
        "#3. Dictionary Operations\n",
        "# Create the first dictionary (student)\n",
        "student = {\n",
        "    \"name\": \"John\",\n",
        "    \"age\": 21,\n",
        "    \"grade\": \"A+\",\n",
        "    \"courses\": [\"Math\", \"Science\", \"History\", \"Computer Science\"],\n",
        "    \"email\": \"john@example.com\"\n",
        "}\n",
        "\n",
        "# Create the second dictionary (student_address)\n",
        "student_address = {\n",
        "    \"street\": \"123 College Ave\",\n",
        "    \"city\": \"New York\",\n",
        "    \"zip\": \"10001\"\n",
        "}\n",
        "\n",
        "# Combine both dictionaries into a new dictionary (student_info)\n",
        "student_info = {**student, **student_address}\n",
        "\n",
        "# Remove the \"zip\" key from student_info\n",
        "student_info.pop(\"zip\", None)  # pop with default None to avoid error if key doesn't exist\n",
        "\n",
        "# Check if \"phone\" exists in the dictionary\n",
        "if \"phone\" in student_info:\n",
        "    print(\"Phone number exists:\", student_info[\"phone\"])\n",
        "else:\n",
        "    print(\"Phone number does not exist.\")\n",
        "\n",
        "# Print the final dictionary\n",
        "print(\"Final student_info dictionary:\", student_info)\n"
      ],
      "metadata": {
        "colab": {
          "base_uri": "https://localhost:8080/"
        },
        "id": "D7IfdbR3lzm4",
        "outputId": "0216cee9-8803-4f88-d473-d65da4a05988"
      },
      "execution_count": null,
      "outputs": [
        {
          "output_type": "stream",
          "name": "stdout",
          "text": [
            "Phone number does not exist.\n",
            "Final student_info dictionary: {'name': 'John', 'age': 21, 'grade': 'A+', 'courses': ['Math', 'Science', 'History', 'Computer Science'], 'email': 'john@example.com', 'street': '123 College Ave', 'city': 'New York'}\n"
          ]
        }
      ]
    },
    {
      "cell_type": "code",
      "source": [
        "#4. Dictionary Methods\n",
        "# Create the word_count dictionary\n",
        "word_count = {\n",
        "    \"hello\": 5,\n",
        "    \"world\": 10,\n",
        "    \"python\": 15\n",
        "}\n",
        "\n",
        "# Get all keys and print them as a list\n",
        "keys = list(word_count.keys())\n",
        "print(\"Keys:\", keys)\n",
        "\n",
        "# Get all values and print them as a list\n",
        "values = list(word_count.values())\n",
        "print(\"Values:\", values)\n",
        "\n",
        "# Get all key-value pairs and print them\n",
        "items = list(word_count.items())\n",
        "print(\"Key-Value Pairs:\", items)\n",
        "\n",
        "# Make a copy of the dictionary\n",
        "word_count_copy = word_count.copy()\n",
        "\n",
        "# Clear the original dictionary\n",
        "word_count.clear()\n",
        "\n",
        "# Print both dictionaries to verify one is empty and one is a copy\n",
        "print(\"Original word_count (after clear):\", word_count)\n",
        "print(\"Copied word_count:\", word_count_copy)\n"
      ],
      "metadata": {
        "colab": {
          "base_uri": "https://localhost:8080/"
        },
        "id": "UKaYRFOJmFCA",
        "outputId": "22d6ac7c-8c9b-4e6c-cd7a-ffd8ab3537a3"
      },
      "execution_count": null,
      "outputs": [
        {
          "output_type": "stream",
          "name": "stdout",
          "text": [
            "Keys: ['hello', 'world', 'python']\n",
            "Values: [5, 10, 15]\n",
            "Key-Value Pairs: [('hello', 5), ('world', 10), ('python', 15)]\n",
            "Original word_count (after clear): {}\n",
            "Copied word_count: {'hello': 5, 'world': 10, 'python': 15}\n"
          ]
        }
      ]
    },
    {
      "cell_type": "code",
      "source": [
        "                   #Shopping Discount Calculator\n",
        "\n",
        "\n",
        "# Step 1: Set up the initial variables\n",
        "purchase_amount = 150.75  # total cost in the shopping cart\n",
        "is_loyalty_member = True  # True if customer is a loyalty member\n",
        "day_of_week = \"Saturday\"  # current day (e.g., \"Monday\", \"Tuesday\", etc.)\n",
        "is_holiday_season = True  # True if it's currently holiday shopping season\n",
        "\n",
        "# Step 2: Apply discount rules\n",
        "total_discount = 0\n",
        "discounts_applied = []\n",
        "\n",
        "# Base discount based on purchase amount\n",
        "if purchase_amount > 100:\n",
        "    discount = 0.10 * purchase_amount\n",
        "    total_discount += discount\n",
        "    discounts_applied.append((\"10% discount (purchase > $100)\", discount))\n",
        "elif purchase_amount > 50:\n",
        "    discount = 0.05 * purchase_amount\n",
        "    total_discount += discount\n",
        "    discounts_applied.append((\"5% discount (purchase > $50)\", discount))\n",
        "\n",
        "# Loyalty member discount\n",
        "if is_loyalty_member:\n",
        "    discount = 0.05 * purchase_amount\n",
        "    total_discount += discount\n",
        "    discounts_applied.append((\"5% loyalty member discount\", discount))\n",
        "\n",
        "# Weekend discount\n",
        "if day_of_week in [\"Saturday\", \"Sunday\"]:\n",
        "    discount = 0.02 * purchase_amount\n",
        "    total_discount += discount\n",
        "    discounts_applied.append((\"2% weekend discount\", discount))\n",
        "\n",
        "# Holiday season discount\n",
        "if is_holiday_season:\n",
        "    discount = 0.08 * purchase_amount\n",
        "    total_discount += discount\n",
        "    discounts_applied.append((\"8% holiday season discount\", discount))\n",
        "\n",
        "# Step 3: Final calculation\n",
        "final_price = purchase_amount - total_discount\n",
        "\n",
        "# Display results\n",
        "print(\"Original Purchase Amount: $\", round(purchase_amount, 2))\n",
        "print(\"\\nDiscounts Applied:\")\n",
        "for label, amount in discounts_applied:\n",
        "    print(f\"- {label}: ${amount:.2f}\")\n",
        "\n",
        "print(\"\\nTotal Discount: $\", round(total_discount, 2))\n",
        "print(\"Final Price After Discounts: $\", round(final_price, 2))\n",
        "\n"
      ],
      "metadata": {
        "colab": {
          "base_uri": "https://localhost:8080/"
        },
        "id": "WB5x9USGmcXs",
        "outputId": "95e47901-3be7-4924-a3b4-bf52c54297b5"
      },
      "execution_count": null,
      "outputs": [
        {
          "output_type": "stream",
          "name": "stdout",
          "text": [
            "Original Purchase Amount: $ 150.75\n",
            "\n",
            "Discounts Applied:\n",
            "- 10% discount (purchase > $100): $15.08\n",
            "- 5% loyalty member discount: $7.54\n",
            "- 2% weekend discount: $3.02\n",
            "- 8% holiday season discount: $12.06\n",
            "\n",
            "Total Discount: $ 37.69\n",
            "Final Price After Discounts: $ 113.06\n"
          ]
        }
      ]
    },
    {
      "cell_type": "code",
      "source": [
        "                   #For Loop Assignment - Number Patterns\n",
        "\n",
        "# Pattern 1: Counting Numbers\n",
        "print(\"Pattern 1: Counting from 1 to 10\")\n",
        "for i in range(1, 11):\n",
        "    print(i, end=\" \")\n",
        "print(\"\\n\")  # new line after pattern\n",
        "\n",
        "# Pattern 2: Multiplication Table of 5\n",
        "print(\"Pattern 2: Multiplication Table of 5\")\n",
        "for i in range(1, 11):\n",
        "    print(f\"5 x {i} = {5 * i}\")\n",
        "import random\n",
        "\n",
        "# Step 1: Set a secret number between 1 and 50\n",
        "secret_number = random.randint(1, 50)\n",
        "guess = None\n",
        "guess_count = 0\n",
        "\n",
        "print(\"\\n Welcome to the Number Guessing Game!\")\n",
        "print(\"Guess the secret number (between 1 and 50):\")\n",
        "\n",
        "# Step 2-5: Loop until the user guesses correctly\n",
        "while guess != secret_number:\n",
        "    guess = int(input(\"Enter your guess: \"))\n",
        "    guess_count += 1\n",
        "\n",
        "    if guess < secret_number:\n",
        "        print(\"Too low! Try again.\")\n",
        "    elif guess > secret_number:\n",
        "        print(\"Too high! Try again.\")\n",
        "    else:\n",
        "        print(f\" Correct! You guessed the number in {guess_count} attempts.\")\n"
      ],
      "metadata": {
        "colab": {
          "base_uri": "https://localhost:8080/"
        },
        "id": "WOdP5UN8n5Qd",
        "outputId": "2e8bd94e-c524-4e88-ddf4-95786c21c12e"
      },
      "execution_count": null,
      "outputs": [
        {
          "output_type": "stream",
          "name": "stdout",
          "text": [
            "Pattern 1: Counting from 1 to 10\n",
            "1 2 3 4 5 6 7 8 9 10 \n",
            "\n",
            "Pattern 2: Multiplication Table of 5\n",
            "5 x 1 = 5\n",
            "5 x 2 = 10\n",
            "5 x 3 = 15\n",
            "5 x 4 = 20\n",
            "5 x 5 = 25\n",
            "5 x 6 = 30\n",
            "5 x 7 = 35\n",
            "5 x 8 = 40\n",
            "5 x 9 = 45\n",
            "5 x 10 = 50\n",
            "\n",
            " Welcome to the Number Guessing Game!\n",
            "Guess the secret number (between 1 and 50):\n",
            "Enter your guess: 23\n",
            "Too high! Try again.\n",
            "Enter your guess: 12\n",
            "Too low! Try again.\n",
            "Enter your guess: 34\n",
            "Too high! Try again.\n",
            "Enter your guess: 33\n",
            "Too high! Try again.\n",
            "Enter your guess: 22\n",
            "Too high! Try again.\n",
            "Enter your guess: 17\n",
            "Too high! Try again.\n",
            "Enter your guess: 16\n",
            "Too high! Try again.\n",
            "Enter your guess: 15\n",
            "Too high! Try again.\n",
            "Enter your guess: 14\n",
            "Too high! Try again.\n",
            "Enter your guess: 13\n",
            " Correct! You guessed the number in 10 attempts.\n"
          ]
        }
      ]
    },
    {
      "cell_type": "code",
      "source": [
        "               #Student Grade Management System\n",
        "\n",
        "\n",
        " # Step 1: Create list to store students\n",
        "students = []\n",
        "\n",
        "# Step 2: Define 3 students (as dictionaries with name, id, and grades)\n",
        "students.append({\n",
        "    \"name\": \"Alice Johnson\",\n",
        "    \"id\": 101,\n",
        "    \"grades\": {\"Math\": 85, \"Science\": 90, \"English\": 78}\n",
        "})\n",
        "students.append({\n",
        "    \"name\": \"Bob Smith\",\n",
        "    \"id\": 102,\n",
        "    \"grades\": {\"Math\": 72, \"Science\": 88, \"English\": 95}\n",
        "})\n",
        "students.append({\n",
        "    \"name\": \"Charlie Lee\",\n",
        "    \"id\": 103,\n",
        "    \"grades\": {\"Math\": 95, \"Science\": 89, \"English\": 92}\n",
        "})\n",
        "\n",
        "# Step 3: Display all students with their grades\n",
        "print(\"\\n All Students and Their Grades:\")\n",
        "for student in students:\n",
        "    print(f\"\\nName: {student['name']}, ID: {student['id']}\")\n",
        "    for course, grade in student['grades'].items():\n",
        "        print(f\"  {course}: {grade}\")\n",
        "\n",
        "# Step 4: Calculate and display the average grade for each student\n",
        "print(\"\\n Average Grade Per Student:\")\n",
        "highest_avg = 0\n",
        "top_student = None\n",
        "\n",
        "for student in students:\n",
        "    grades = student[\"grades\"].values()\n",
        "    avg = sum(grades) / len(grades)\n",
        "    print(f\"{student['name']} - Average Grade: {avg:.2f}\")\n",
        "\n",
        "    # Keep track of the highest average\n",
        "    if avg > highest_avg:\n",
        "        highest_avg = avg\n",
        "        top_student = student\n",
        "\n",
        "# Step 5: Display the student with the highest average grade\n",
        "print(f\"\\n Top Student: {top_student['name']} with Average Grade: {highest_avg:.2f}\")\n",
        "\n",
        "# Step 6: List students with average grade above 80\n",
        "print(\"\\n Students with Average Grade > 80:\")\n",
        "for student in students:\n",
        "    avg = sum(student[\"grades\"].values()) / len(student[\"grades\"])\n",
        "    if avg > 80:\n",
        "        print(f\"- {student['name']} ({avg:.2f})\")\n",
        "\n",
        "# Step 7: Calculate average grade for a specific course (e.g., \"Math\")\n",
        "course_name = \"Math\"\n",
        "total = count = 0\n",
        "for student in students:\n",
        "    if course_name in student[\"grades\"]:\n",
        "        total += student[\"grades\"][course_name]\n",
        "        count += 1\n",
        "\n",
        "if count > 0:\n",
        "    course_avg = total / count\n",
        "    print(f\"\\n Average Grade for {course_name}: {course_avg:.2f}\")\n",
        "else:\n",
        "    print(f\"\\n No grades found for course: {course_name}\")\n",
        "\n",
        "# Step 8: Add a new student\n",
        "new_student = {\n",
        "    \"name\": \"David Parker\",\n",
        "    \"id\": 104,\n",
        "    \"grades\": {\"Math\": 81, \"Science\": 76, \"English\": 88}\n",
        "}\n",
        "students.append(new_student)\n",
        "print(f\"\\n New Student Added: {new_student['name']} (ID: {new_student['id']})\")\n"
      ],
      "metadata": {
        "colab": {
          "base_uri": "https://localhost:8080/"
        },
        "id": "jgR_Eo8dozSl",
        "outputId": "bb494ec4-85e9-4b72-afe7-43c427d3b6cc"
      },
      "execution_count": null,
      "outputs": [
        {
          "output_type": "stream",
          "name": "stdout",
          "text": [
            "\n",
            " All Students and Their Grades:\n",
            "\n",
            "Name: Alice Johnson, ID: 101\n",
            "  Math: 85\n",
            "  Science: 90\n",
            "  English: 78\n",
            "\n",
            "Name: Bob Smith, ID: 102\n",
            "  Math: 72\n",
            "  Science: 88\n",
            "  English: 95\n",
            "\n",
            "Name: Charlie Lee, ID: 103\n",
            "  Math: 95\n",
            "  Science: 89\n",
            "  English: 92\n",
            "\n",
            " Average Grade Per Student:\n",
            "Alice Johnson - Average Grade: 84.33\n",
            "Bob Smith - Average Grade: 85.00\n",
            "Charlie Lee - Average Grade: 92.00\n",
            "\n",
            " Top Student: Charlie Lee with Average Grade: 92.00\n",
            "\n",
            " Students with Average Grade > 80:\n",
            "- Alice Johnson (84.33)\n",
            "- Bob Smith (85.00)\n",
            "- Charlie Lee (92.00)\n",
            "\n",
            " Average Grade for Math: 84.00\n",
            "\n",
            " New Student Added: David Parker (ID: 104)\n"
          ]
        }
      ]
    }
  ]
}