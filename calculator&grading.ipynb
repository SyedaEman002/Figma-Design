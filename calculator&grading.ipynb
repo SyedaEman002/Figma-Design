{
  "nbformat": 4,
  "nbformat_minor": 0,
  "metadata": {
    "colab": {
      "provenance": [],
      "authorship_tag": "ABX9TyOVMJetz1XdDLMsn4rXRo9D",
      "include_colab_link": true
    },
    "kernelspec": {
      "name": "python3",
      "display_name": "Python 3"
    },
    "language_info": {
      "name": "python"
    }
  },
  "cells": [
    {
      "cell_type": "markdown",
      "metadata": {
        "id": "view-in-github",
        "colab_type": "text"
      },
      "source": [
        "<a href=\"https://colab.research.google.com/github/SyedaEman002/Figma-Design/blob/main/calculator%26grading.ipynb\" target=\"_parent\"><img src=\"https://colab.research.google.com/assets/colab-badge.svg\" alt=\"Open In Colab\"/></a>"
      ]
    },
    {
      "cell_type": "code",
      "source": [
        "#2. Simple Python Grading System\n",
        "def grading_system():\n",
        "    marks = float(input(\"Enter student's marks: \"))\n",
        "\n",
        "    if marks >= 90:\n",
        "        grade = \"A+\"\n",
        "    elif marks >= 80:\n",
        "        grade = \"A\"\n",
        "    elif marks >= 70:\n",
        "        grade = \"B\"\n",
        "    elif marks >= 60:\n",
        "        grade = \"C\"\n",
        "    elif marks >= 50:\n",
        "        grade = \"D\"\n",
        "    else:\n",
        "        grade = \"F\"\n",
        "\n",
        "    print(f\"Student's grade: {grade}\")\n",
        "\n",
        "grading_system()\n",
        "\n"
      ],
      "metadata": {
        "id": "m9dihtlfZCX5",
        "colab": {
          "base_uri": "https://localhost:8080/"
        },
        "outputId": "b5ca8ae4-05ba-498d-d8ec-7f7520f92ff7"
      },
      "execution_count": 1,
      "outputs": [
        {
          "output_type": "stream",
          "name": "stdout",
          "text": [
            "Enter student's marks: 80\n",
            "Student's grade: A\n"
          ]
        }
      ]
    },
    {
      "cell_type": "code",
      "source": [
        "#1 simple calculator\n",
        "def calculator():\n",
        "    try:\n",
        "        num1 = float(input(\"Enter first number: \"))\n",
        "        num2 = float(input(\"Enter second number: \"))\n",
        "        operation = input(\"Enter operation (+, -, *, /): \")\n",
        "\n",
        "        if operation == \"+\":\n",
        "            print(\"Result:\", num1 + num2)\n",
        "        elif operation == \"-\":\n",
        "            print(\"Result:\", num1 - num2)\n",
        "        elif operation == \"*\":\n",
        "            print(\"Result:\", num1 * num2)\n",
        "        elif operation == \"/\":\n",
        "            if num2 != 0:\n",
        "                print(\"Result:\", num1 / num2)\n",
        "            else:\n",
        "                print(\"Error: Cannot divide by zero\")\n",
        "        else:\n",
        "            print(\"Invalid operation\")\n",
        "\n",
        "    except ValueError:\n",
        "        print(\"Invalid input! Please enter numbers only.\")\n",
        "\n",
        "# Call the function\n",
        "calculator()\n",
        "\n",
        "\n",
        "\n",
        "\n",
        "\n",
        "\n",
        "\n",
        "\n",
        "\n"
      ],
      "metadata": {
        "id": "UyfxqB42a_8H",
        "colab": {
          "base_uri": "https://localhost:8080/"
        },
        "outputId": "1237d2b6-99d4-47d1-b2cd-89ef4bb36c69"
      },
      "execution_count": null,
      "outputs": [
        {
          "output_type": "stream",
          "name": "stdout",
          "text": [
            "Enter first number: 7\n",
            "Enter second number: 90\n",
            "Enter operation (+, -, *, /): /\n",
            "Result: 0.07777777777777778\n"
          ]
        }
      ]
    }
  ]
}