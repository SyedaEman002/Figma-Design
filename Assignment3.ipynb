{
  "nbformat": 4,
  "nbformat_minor": 0,
  "metadata": {
    "colab": {
      "provenance": [],
      "authorship_tag": "ABX9TyMDVBwDHZB82Q6dg5rn8mZ2",
      "include_colab_link": true
    },
    "kernelspec": {
      "name": "python3",
      "display_name": "Python 3"
    },
    "language_info": {
      "name": "python"
    }
  },
  "cells": [
    {
      "cell_type": "markdown",
      "metadata": {
        "id": "view-in-github",
        "colab_type": "text"
      },
      "source": [
        "<a href=\"https://colab.research.google.com/github/SyedaEman002/Figma-Design/blob/main/Assignment3.ipynb\" target=\"_parent\"><img src=\"https://colab.research.google.com/assets/colab-badge.svg\" alt=\"Open In Colab\"/></a>"
      ]
    },
    {
      "cell_type": "code",
      "execution_count": null,
      "metadata": {
        "colab": {
          "base_uri": "https://localhost:8080/"
        },
        "id": "u_vhYdqvbP4R",
        "outputId": "4e562c6e-1e4e-4002-a43d-c2710a30f30d"
      },
      "outputs": [
        {
          "output_type": "stream",
          "name": "stdout",
          "text": [
            "[1, 2, 3, 4, 5, 6]\n"
          ]
        }
      ],
      "source": [
        "                #Basic List Operations\n",
        "#1. Create a list of five numbers and append a new number to it. Print the updated list.\n",
        "Number = [1,2,3,4,5]\n",
        "Number.append(6)\n",
        "print(Number)\n",
        "\n"
      ]
    },
    {
      "cell_type": "code",
      "source": [
        "\n",
        "#2. Extend a list [1, 2, 3] with another list [4, 5, 6]. Print the result\n",
        "list1 = [1, 2, 3]\n",
        "list2 = [4, 5, 6]\n",
        "\n",
        "list1.extend(list2)\n",
        "\n",
        "print(list1)"
      ],
      "metadata": {
        "colab": {
          "base_uri": "https://localhost:8080/"
        },
        "id": "VYzAdHEgfSE2",
        "outputId": "ad5789cb-9651-49eb-e2b6-d2b88be66c2a"
      },
      "execution_count": null,
      "outputs": [
        {
          "output_type": "stream",
          "name": "stdout",
          "text": [
            "[1, 2, 3, 4, 5, 6]\n"
          ]
        }
      ]
    },
    {
      "cell_type": "code",
      "source": [
        "#3. Insert the string \"Python\" at index 2 in the list [\"Java\", \"C++\", \"JavaScript\", \"Ruby\"].\n",
        "languages = [\"Java\", \"C++\", \"Javascript\", \"Ruby\"]\n",
        "languages.insert(2,\"Python\")\n",
        "print(languages)\n"
      ],
      "metadata": {
        "colab": {
          "base_uri": "https://localhost:8080/"
        },
        "id": "LHH2n5NRfXdE",
        "outputId": "acbef1c6-386b-409c-dc1c-eb31cd84162e"
      },
      "execution_count": null,
      "outputs": [
        {
          "output_type": "stream",
          "name": "stdout",
          "text": [
            "['Java', 'C++', 'Python', 'Javascript', 'Ruby']\n"
          ]
        }
      ]
    },
    {
      "cell_type": "code",
      "source": [
        "#4. Remove the first occurrence of the number 10 from the list [10, 20, 30, 10, 40].\n",
        "list = [10,20,30,10,40]\n",
        "list.remove(10)\n",
        "print(list)"
      ],
      "metadata": {
        "colab": {
          "base_uri": "https://localhost:8080/"
        },
        "id": "7mQCYK9VgO8T",
        "outputId": "fb007f5c-fd3d-4751-e667-cae9c6040553"
      },
      "execution_count": null,
      "outputs": [
        {
          "output_type": "stream",
          "name": "stdout",
          "text": [
            "[20, 30, 10, 40]\n"
          ]
        }
      ]
    },
    {
      "cell_type": "code",
      "source": [
        "#5. Use the pop() method to remove the last element from [100, 200, 300, 400] and\n",
        "#print the modified list.\n",
        "numbers = [100, 200, 300, 400]\n",
        "numbers.pop()\n",
        "\n",
        "print(numbers)\n"
      ],
      "metadata": {
        "colab": {
          "base_uri": "https://localhost:8080/"
        },
        "id": "dHy1z_Afgvmc",
        "outputId": "a5aea9e9-23d7-4e22-afa7-e301166212f7"
      },
      "execution_count": null,
      "outputs": [
        {
          "output_type": "stream",
          "name": "stdout",
          "text": [
            "[100, 200, 300]\n"
          ]
        }
      ]
    },
    {
      "cell_type": "code",
      "source": [
        "                  #INTERMEDIATE LIST OPERATIONS\n",
        "#6. Count how many times the number 5 appears in the list [5, 10, 5, 20, 5, 30].\n",
        "numbers =[5,10,5,20,5,30]\n",
        "numbers = numbers.count(5)\n",
        "\n",
        "print(numbers)"
      ],
      "metadata": {
        "colab": {
          "base_uri": "https://localhost:8080/"
        },
        "id": "r-rFkx9Bg_SL",
        "outputId": "838edba8-83b4-4815-aa6e-21ba077ffdc1"
      },
      "execution_count": null,
      "outputs": [
        {
          "output_type": "stream",
          "name": "stdout",
          "text": [
            "3\n"
          ]
        }
      ]
    },
    {
      "cell_type": "code",
      "source": [
        "#7. Sort the list [9, 1, 8, 3, 5] in ascending and descending order\n",
        "numbers = [9, 1, 8, 3, 5]\n",
        "numbers.sort()\n",
        "print(\"Ascending:\", numbers)\n"
      ],
      "metadata": {
        "colab": {
          "base_uri": "https://localhost:8080/"
        },
        "id": "-akVxFJYhjGj",
        "outputId": "5d09e28a-9a6c-44fd-9955-c49f4fe1e649"
      },
      "execution_count": null,
      "outputs": [
        {
          "output_type": "stream",
          "name": "stdout",
          "text": [
            "Ascending: [1, 3, 5, 8, 9]\n"
          ]
        }
      ]
    },
    {
      "cell_type": "code",
      "source": [
        "#8. Reverse the list [“apple”, “banana”, “cherry”] using the reverse() method.\n",
        "fruits = [\"apple\", \"banana\",\"cherry\"]\n",
        "fruits.reverse()\n",
        "print(\"reverse\",fruits)"
      ],
      "metadata": {
        "colab": {
          "base_uri": "https://localhost:8080/"
        },
        "id": "pYReMVFohy5F",
        "outputId": "78e427c3-fe65-4443-a9df-234b43c9769c"
      },
      "execution_count": null,
      "outputs": [
        {
          "output_type": "stream",
          "name": "stdout",
          "text": [
            "reverse ['cherry', 'banana', 'apple']\n"
          ]
        }
      ]
    },
    {
      "cell_type": "code",
      "source": [
        "#9. Create a copy of the list [1, 2, 3, 4, 5] and store it in another variable. Modify the\n",
        "#copied list and print both lists.\n",
        "numbers = [1, 2, 3, 4, 5]\n",
        "copied = numbers.copy()\n",
        "\n",
        "copied.append(6)\n",
        "print(\"Original List:\", numbers)\n",
        "print(\"Copied List:\", copied)\n"
      ],
      "metadata": {
        "colab": {
          "base_uri": "https://localhost:8080/"
        },
        "id": "v4gTX4rEiLuK",
        "outputId": "b9dee73e-ed42-4eba-8101-58d9faf7cac9"
      },
      "execution_count": null,
      "outputs": [
        {
          "output_type": "stream",
          "name": "stdout",
          "text": [
            "Original List: [1, 2, 3, 4, 5]\n",
            "Copied List: [1, 2, 3, 4, 5, 6]\n"
          ]
        }
      ]
    },
    {
      "cell_type": "code",
      "source": [
        "#10. Clear all elements from a list [“hello”, “world”, “python”] using the clear()\n",
        "#method\n",
        "elements = [\"hello\",\"world\",\"python\"]\n",
        "elements.clear()\n",
        "print(elements)"
      ],
      "metadata": {
        "colab": {
          "base_uri": "https://localhost:8080/"
        },
        "id": "KQ33L_mqizWC",
        "outputId": "91eeb76f-a6b5-4b3d-fbb4-72dee6ebf4f8"
      },
      "execution_count": null,
      "outputs": [
        {
          "output_type": "stream",
          "name": "stdout",
          "text": [
            "[]\n"
          ]
        }
      ]
    },
    {
      "cell_type": "code",
      "source": [
        "                      #TUPLE-BASED QUESTIONS\n",
        "#11. Create a tuple with 5 different fruits and print the third fruit\n",
        "fruits = (\"Apple\", \"Banana\", \"Mango\", \"Orange\", \"Grapes\")\n",
        "print(\"Third fruit:\", fruits[2])\n"
      ],
      "metadata": {
        "colab": {
          "base_uri": "https://localhost:8080/"
        },
        "id": "aAJqWxGgjFey",
        "outputId": "08d0cb02-b912-4b38-9284-52160515011d"
      },
      "execution_count": null,
      "outputs": [
        {
          "output_type": "stream",
          "name": "stdout",
          "text": [
            "Third fruit: Mango\n"
          ]
        }
      ]
    }
  ]
}